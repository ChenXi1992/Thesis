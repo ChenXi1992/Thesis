{
 "cells": [
  {
   "cell_type": "code",
   "execution_count": 2,
   "metadata": {},
   "outputs": [
    {
     "name": "stdout",
     "output_type": "stream",
     "text": [
      "(2, 9, 2048) (2, 2048)\n"
     ]
    }
   ],
   "source": [
    "from gensen import GenSen, GenSenSingle\n",
    "\n",
    "gensen_1 = GenSenSingle(\n",
    "    model_folder='./data/models',\n",
    "    filename_prefix='nli_large_bothskip',\n",
    "    pretrained_emb='./data/embedding/glove.840B.300d.h5'\n",
    ")\n"
   ]
  },
  {
   "cell_type": "code",
   "execution_count": 6,
   "metadata": {},
   "outputs": [],
   "source": [
    "\n",
    "gensen_2 = GenSenSingle(\n",
    "    model_folder='./data/models',\n",
    "    filename_prefix='nli_large_bothskip_parse',\n",
    "    pretrained_emb='./data/embedding/glove.840B.300d.h5'\n",
    ")"
   ]
  },
  {
   "cell_type": "code",
   "execution_count": 7,
   "metadata": {},
   "outputs": [
    {
     "name": "stdout",
     "output_type": "stream",
     "text": [
      "(2, 9, 2048) (2, 2048)\n"
     ]
    }
   ],
   "source": [
    "sentences = ['what does it mean','I don\\'t care what you said']\n",
    "reps_h, reps_h_t = gensen_2.get_representation(\n",
    "    sentences, pool='last', return_numpy=True, tokenize=True\n",
    ")\n",
    "print(reps_h.shape, reps_h_t.shape)"
   ]
  },
  {
   "cell_type": "code",
   "execution_count": 8,
   "metadata": {},
   "outputs": [
    {
     "data": {
      "text/plain": [
       "(9, 2048)"
      ]
     },
     "execution_count": 8,
     "metadata": {},
     "output_type": "execute_result"
    }
   ],
   "source": [
    "reps_h[0].shape"
   ]
  },
  {
   "cell_type": "code",
   "execution_count": 9,
   "metadata": {},
   "outputs": [
    {
     "data": {
      "text/plain": [
       "array([[-0.0285236 , -0.2460838 ,  0.01792696, ..., -0.03227446,\n",
       "        -0.03930466, -0.00801989],\n",
       "       [-0.02869339, -0.20114791, -0.04642554, ...,  0.01037348,\n",
       "        -0.03815645, -0.09005029],\n",
       "       [-0.02766201, -0.14483567, -0.1353144 , ...,  0.04243711,\n",
       "        -0.03616078, -0.0610875 ],\n",
       "       ...,\n",
       "       [ 0.        ,  0.        ,  0.        , ...,  0.        ,\n",
       "         0.        ,  0.        ],\n",
       "       [ 0.        ,  0.        ,  0.        , ...,  0.        ,\n",
       "         0.        ,  0.        ],\n",
       "       [ 0.        ,  0.        ,  0.        , ...,  0.        ,\n",
       "         0.        ,  0.        ]], dtype=float32)"
      ]
     },
     "execution_count": 9,
     "metadata": {},
     "output_type": "execute_result"
    }
   ],
   "source": [
    "reps_h[0]"
   ]
  },
  {
   "cell_type": "code",
   "execution_count": 10,
   "metadata": {},
   "outputs": [
    {
     "name": "stdout",
     "output_type": "stream",
     "text": [
      "(2, 9, 2048) (2, 2048)\n"
     ]
    }
   ],
   "source": [
    "sentences = ['what does it mean','I don\\'t care what you said']\n",
    "reps_h, reps_h_t = gensen_1.get_representation(\n",
    "    sentences, pool='last', return_numpy=True, tokenize=True\n",
    ")\n",
    "print(reps_h.shape, reps_h_t.shape)"
   ]
  },
  {
   "cell_type": "code",
   "execution_count": 11,
   "metadata": {},
   "outputs": [
    {
     "data": {
      "text/plain": [
       "array([[-0.00176727, -0.03061911, -0.01505137, ..., -0.01708062,\n",
       "        -0.02279739,  0.00898943],\n",
       "       [-0.00365946, -0.05750059, -0.06086423, ..., -0.01957364,\n",
       "        -0.06563658,  0.01564957],\n",
       "       [-0.00340708, -0.05821218, -0.1397388 , ..., -0.02113861,\n",
       "         0.05888659,  0.01029129],\n",
       "       ...,\n",
       "       [ 0.        ,  0.        ,  0.        , ...,  0.        ,\n",
       "         0.        ,  0.        ],\n",
       "       [ 0.        ,  0.        ,  0.        , ...,  0.        ,\n",
       "         0.        ,  0.        ],\n",
       "       [ 0.        ,  0.        ,  0.        , ...,  0.        ,\n",
       "         0.        ,  0.        ]], dtype=float32)"
      ]
     },
     "execution_count": 11,
     "metadata": {},
     "output_type": "execute_result"
    }
   ],
   "source": [
    "reps_h[0]"
   ]
  }
 ],
 "metadata": {
  "kernelspec": {
   "display_name": "Python 3",
   "language": "python",
   "name": "python3"
  },
  "language_info": {
   "codemirror_mode": {
    "name": "ipython",
    "version": 3
   },
   "file_extension": ".py",
   "mimetype": "text/x-python",
   "name": "python",
   "nbconvert_exporter": "python",
   "pygments_lexer": "ipython3",
   "version": "3.6.5"
  }
 },
 "nbformat": 4,
 "nbformat_minor": 2
}
