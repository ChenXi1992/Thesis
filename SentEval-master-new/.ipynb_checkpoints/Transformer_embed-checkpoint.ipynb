{
 "cells": [
  {
   "cell_type": "code",
   "execution_count": 2,
   "metadata": {},
   "outputs": [
    {
     "name": "stderr",
     "output_type": "stream",
     "text": [
      "/Users/chenxi/anaconda3/lib/python3.6/site-packages/h5py/__init__.py:34: FutureWarning: Conversion of the second argument of issubdtype from `float` to `np.floating` is deprecated. In future, it will be treated as `np.float64 == np.dtype(float).type`.\n",
      "  from ._conv import register_converters as _register_converters\n",
      "WARNING: Logging before flag parsing goes to stderr.\n",
      "W0504 13:57:00.330958 4673267136 deprecation_wrapper.py:119] From /Users/chenxi/Desktop/Thesis/Code/WordEmbeddingEval/SentEval-master-new/official/transformer/model/attention_layer.py:24: The name tf.layers.Layer is deprecated. Please use tf.compat.v1.layers.Layer instead.\n",
      "\n"
     ]
    }
   ],
   "source": [
    "# For transformer \n",
    "from __future__ import absolute_import\n",
    "from __future__ import division\n",
    "from __future__ import print_function\n",
    "\n",
    "import os\n",
    "import tempfile\n",
    "\n",
    "# pylint: disable=g-bad-import-order\n",
    "from six.moves import xrange  # pylint: disable=redefined-builtin\n",
    "from absl import app as absl_app\n",
    "from absl import flags\n",
    "import tensorflow as tf\n",
    "# pylint: enable=g-bad-import-order\n",
    "\n",
    "from official.transformer import compute_bleu\n",
    "from official.transformer import translate\n",
    "from official.transformer.model import model_params\n",
    "from official.transformer.model import transformer\n",
    "from official.transformer.utils import dataset\n",
    "from official.transformer.utils import metrics\n",
    "from official.transformer.utils import schedule\n",
    "from official.transformer.utils import tokenizer\n",
    "from official.utils.accelerator import tpu as tpu_util\n",
    "from official.utils.export import export\n",
    "from official.utils.flags import core as flags_core\n",
    "from official.utils.logs import hooks_helper\n",
    "from official.utils.logs import logger\n",
    "from official.utils.misc import distribution_utils\n",
    "from official.utils.misc import model_helpers\n",
    "\n",
    "PARAMS_MAP = {\n",
    "    \"tiny\": model_params.TINY_PARAMS,\n",
    "    \"base\": model_params.BASE_PARAMS,\n",
    "    \"big\": model_params.BIG_PARAMS,\n",
    "}\n",
    "\n",
    "os.environ['TF_CPP_MIN_LOG_LEVEL'] = '3' \n",
    "\n",
    "\n",
    "DEFAULT_TRAIN_EPOCHS = 10\n",
    "INF = int(1e9)\n",
    "BLEU_DIR = \"bleu\"\n",
    "\n",
    "# Dictionary containing tensors that are logged by the logging hooks. Each item\n",
    "# maps a string to the tensor name.\n",
    "TENSORS_TO_LOG = {\n",
    "    \"learning_rate\": \"model/get_train_op/learning_rate/learning_rate\",\n",
    "    \"cross_entropy_loss\": \"model/cross_entropy\"}\n",
    "\n",
    "\n",
    "PARAMS_MAP[\"vocab_size\"] = 10\n",
    "PARAMS_MAP[\"hidden_size\"] = 0\n",
    "PARAMS_MAP[\"num_hidden_layers\"] = 6\n",
    "PARAMS_MAP[\"tpu\"] = False\n",
    "PARAMS_MAP[\"num_heads\"] = 6\n",
    "PARAMS_MAP[\"attention_dropout\"] = 0\n",
    "PARAMS_MAP[\"filter_size\"] = 10\n",
    "PARAMS_MAP[\"relu_dropout\"] = 0\n",
    "PARAMS_MAP[\"allow_ffn_pad\"] = True\n",
    "PARAMS_MAP[\"layer_postprocess_dropout\"] =0\n",
    "\n",
    "\n"
   ]
  },
  {
   "cell_type": "code",
   "execution_count": 5,
   "metadata": {},
   "outputs": [],
   "source": [
    "import numpy as np\n",
    "inputs = []\n",
    "for i in range(5):\n",
    "    inputs.append(np.random.randn(15,300));\n",
    "inputs = np.array(inputs).astype(np.float32)"
   ]
  },
  {
   "cell_type": "code",
   "execution_count": 9,
   "metadata": {
    "collapsed": true
   },
   "outputs": [
    {
     "name": "stdout",
     "output_type": "stream",
     "text": [
      "self_attention encoder_inputs shape  (5, 15, 300)\n",
      " encoder_inputs shape normalizered  (5, 15, 300)\n",
      "self_attention encoder_inputs shape  (5, 15, 300)\n",
      " encoder_inputs shape normalizered  (5, 15, 300)\n",
      "self_attention encoder_inputs shape  (5, 15, 300)\n",
      " encoder_inputs shape normalizered  (5, 15, 300)\n",
      "self_attention encoder_inputs shape  (5, 15, 300)\n",
      " encoder_inputs shape normalizered  (5, 15, 300)\n",
      "self_attention encoder_inputs shape  (5, 15, 300)\n",
      " encoder_inputs shape normalizered  (5, 15, 300)\n",
      "self_attention encoder_inputs shape  (5, 15, 300)\n",
      " encoder_inputs shape normalizered  (5, 15, 300)\n"
     ]
    }
   ],
   "source": [
    "output = getTransformer('Glove',inputs)"
   ]
  },
  {
   "cell_type": "code",
   "execution_count": 10,
   "metadata": {},
   "outputs": [
    {
     "data": {
      "text/plain": [
       "(5, 15, 300)"
      ]
     },
     "execution_count": 10,
     "metadata": {},
     "output_type": "execute_result"
    }
   ],
   "source": []
  },
  {
   "cell_type": "code",
   "execution_count": 7,
   "metadata": {
    "collapsed": true
   },
   "outputs": [],
   "source": [
    "def getTransformer(EmbedType,batch):\n",
    "    if EmbedType == 'Glove':\n",
    "        PARAMS_MAP[\"hidden_size\"] = 300\n",
    "    if EmbedType == 'GPT2':\n",
    "        PARAMS_MAP[\"hidden_size\"] = None\n",
    "    if EmbedType == 'ELMO':\n",
    "        PARAMS_MAP[\"hidden_size\"] = 1024\n",
    "    if EmbedType == 'BERT':\n",
    "        PARAMS_MAP[\"hidden_size\"] = None\n",
    "    \n",
    "    if PARAMS_MAP[\"hidden_size\"] == 0:\n",
    "        raise(\"Can't not recognize the embed\")\n",
    "    \n",
    "    tf.reset_default_graph()\n",
    "    model = transformer.Transformer(PARAMS_MAP, True)\n",
    "    \n",
    "    attention_bias = np.zeros([len(batch),1,1,len(batch[0])])\n",
    "    output = model.encode(batch,attention_bias)\n",
    "    init = tf.global_variables_initializer()\n",
    "    sess = tf.Session()\n",
    "    sess.run(init)\n",
    "    x = sess.run(output)\n",
    "    \n",
    "    return x \n",
    "\n",
    "    "
   ]
  }
 ],
 "metadata": {
  "kernelspec": {
   "display_name": "Python 3",
   "language": "python",
   "name": "python3"
  },
  "language_info": {
   "codemirror_mode": {
    "name": "ipython",
    "version": 3
   },
   "file_extension": ".py",
   "mimetype": "text/x-python",
   "name": "python",
   "nbconvert_exporter": "python",
   "pygments_lexer": "ipython3",
   "version": "3.6.2"
  }
 },
 "nbformat": 4,
 "nbformat_minor": 2
}
